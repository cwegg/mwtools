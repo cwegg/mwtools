{
 "cells": [
  {
   "cell_type": "code",
   "execution_count": null,
   "metadata": {},
   "outputs": [],
   "source": [
    "import numpy as np\n",
    "import matplotlib.pyplot as plt\n",
    "from matplotlib import cm\n",
    "\n",
    "%matplotlib inline\n",
    "%load_ext autoreload\n",
    "%autoreload 2\n",
    "%aimport mwtools\n",
    "from mwtools import nemo\n"
   ]
  },
  {
   "cell_type": "markdown",
   "metadata": {},
   "source": [
    "## The package has a few useful things for querying, cross matching, and playing with MW models"
   ]
  },
  {
   "cell_type": "code",
   "execution_count": null,
   "metadata": {},
   "outputs": [],
   "source": [
    "help(mwtools)"
   ]
  },
  {
   "cell_type": "markdown",
   "metadata": {},
   "source": [
    "## How to query the WSA (mostly for UKIDSS data) and the VSA (mostly for VVV data)"
   ]
  },
  {
   "cell_type": "markdown",
   "metadata": {},
   "source": [
    "We use query_vsa and query_wsa to submit SQL queries and get the results.\n",
    "\n",
    "Note theres also virac in the VSA as vvvProperMotionCatalogue -- for the full list go to http://horus.roe.ac.uk/vsa/www/vsa_browser.html or http://wsa.roe.ac.uk/www/wsa_browser.html)"
   ]
  },
  {
   "cell_type": "code",
   "execution_count": null,
   "metadata": {},
   "outputs": [],
   "source": [
    "help(mwtools.query)"
   ]
  },
  {
   "cell_type": "code",
   "execution_count": null,
   "metadata": {
    "collapsed": true
   },
   "outputs": [],
   "source": [
    "central_l,central_b = 4.75, 1.25\n",
    "width_l,width_b = 0.5, 0.1"
   ]
  },
  {
   "cell_type": "code",
   "execution_count": null,
   "metadata": {},
   "outputs": [],
   "source": [
    "sqlquery=\"\"\"select ra,dec,l,b,japermag3 as J,hapermag3 as H, k_1AperMag3 as K\n",
    "from gpsJHKsource where l between {} and {} and b between {} and {} \n",
    "and japermag3-k_1AperMag3 > 0 and k_1AperMag3 between 5 and 18\"\"\".format(central_l-0.5*width_l,central_l+0.5*width_l,\n",
    "                                                                        central_b-0.5*width_b,central_b+0.5*width_b)\n",
    "ukidss=mwtools.query_wsa(sqlquery)\n",
    "ukidss.RA = np.rad2deg(ukidss.RA) #be careful, ra and dec are in radians in the VSA/WSA\n",
    "ukidss.DEC = np.rad2deg(ukidss.DEC)\n",
    "ukidss[0:5]"
   ]
  },
  {
   "cell_type": "code",
   "execution_count": null,
   "metadata": {},
   "outputs": [],
   "source": [
    "sqlquery=\"\"\"select ra,dec,l,b,japermag3 as J,hapermag3 as H, ksAperMag3 as K\n",
    "from vvvSource where l between {} and {} and b between {} and {} \n",
    "and japermag3-ksAperMag3 > 0 and ksAperMag3 between 5 and 18\"\"\".format(central_l-0.5*width_l,central_l+0.5*width_l,\n",
    "                                                                        central_b-0.5*width_b,central_b+0.5*width_b)\n",
    "vvv=mwtools.query_vsa(sqlquery)\n",
    "vvv.RA = np.rad2deg(vvv.RA) #be careful, ra and dec are in radians in the VSA/WSA\n",
    "vvv.DEC = np.rad2deg(vvv.DEC)\n",
    "vvv[0:5]"
   ]
  },
  {
   "cell_type": "markdown",
   "metadata": {},
   "source": [
    "The WSA and VSA also have many other tables too... e.g. 2MASS/Gaia but instead here we use vizier. Almost all useful tables are in vizier (at least if they aren't too big like Gaia/UKIDSS/VVV) so it's useful to be able to query directly in python\n",
    "\n",
    "For this there's astroquery extension to astropy"
   ]
  },
  {
   "cell_type": "code",
   "execution_count": null,
   "metadata": {},
   "outputs": [],
   "source": [
    "from astroquery.vizier import Vizier\n",
    "import astropy.coordinates as coord\n",
    "import astropy.units as u\n",
    "\n",
    "v = Vizier(columns=[\"*\", \"+_r\"],catalog=\"II/246\")\n",
    "v.ROW_LIMIT=-1\n",
    "result = v.query_region(coord.Galactic(l=central_l*u.deg, b=central_b*u.deg),\n",
    "                        width=width_l*u.deg, height=width_b*u.deg, catalog=\"II/246\")\n",
    "tmass=result[0].to_pandas()\n",
    "tmass[0:5]"
   ]
  },
  {
   "cell_type": "code",
   "execution_count": null,
   "metadata": {},
   "outputs": [],
   "source": [
    "fig,axs=plt.subplots(1,3,sharey=True,sharex=True)\n",
    "\n",
    "axs[0].plot(ukidss.J-ukidss.K,ukidss.K,'.',markersize=0.5)\n",
    "axs[1].plot(vvv.J-vvv.K,vvv.K,'.',markersize=0.5)\n",
    "axs[2].plot(tmass.Jmag-tmass.Kmag,tmass.Kmag,'.',markersize=0.5)\n",
    "axs[0].set_title('UKIDSS')\n",
    "axs[1].set_title('VVV')\n",
    "axs[2].set_title('2MASS')\n",
    "\n",
    "axs[0].set_ylim([16,9])\n",
    "axs[0].set_xlim([0,3])\n",
    "\n",
    "axs[1].set_xlabel('J-K')\n",
    "axs[0].set_ylabel('K')\n",
    "plt.subplots_adjust(hspace = 0,wspace = 0.1)"
   ]
  },
  {
   "cell_type": "code",
   "execution_count": null,
   "metadata": {},
   "outputs": [],
   "source": [
    "fig,ax = plt.subplots(1,1)\n",
    "\n",
    "bins = np.arange(6,18,0.2)\n",
    "ax.hist(ukidss.K,bins,label='UKIDSS',alpha=0.3,histtype='step')\n",
    "ax.hist(vvv.K,bins,label='VVV',alpha=0.3,histtype='step')\n",
    "ax.hist(tmass.Kmag,bins,label='2MASS',alpha=0.3,histtype='step')\n",
    "qflg=tmass.Qflg.str.decode(\"utf-8\")\n",
    "cut=(tmass.e_Jmag < 0.1) & (tmass.e_Hmag < 0.1) & (tmass.e_Kmag < 0.1) & \\\n",
    "    ((qflg.str[0] == 'A') | (qflg.str[0] == 'B')) & ((qflg.str[1] == 'A') | (qflg.str[1] == 'B')) & \\\n",
    "    ((qflg.str[2] == 'A') | (qflg.str[2] == 'B')) & (tmass.Cflg == b'000')\n",
    "ax.hist(tmass[cut].Kmag,bins,label='2MASS Cut',alpha=0.3,histtype='step')\n",
    "\n",
    "ax.legend()\n",
    "ax.set_yscale('log')\n",
    "ax.set_xlabel('K')\n",
    "ax.set_ylabel('Number of Stars')\n",
    "ax.set_title(r'Region centered on $(l,b)={:.2f},{:.2f}$'.format(central_l,central_b))\n",
    "\n"
   ]
  },
  {
   "cell_type": "markdown",
   "metadata": {},
   "source": [
    "## One option for cross matching to Gaia"
   ]
  },
  {
   "cell_type": "markdown",
   "metadata": {},
   "source": [
    "There's a few different ways to cross match to gaia\n",
    "- you could download the entire source table and cross match locally, but this is 550 GB, and doing it efficiently isn't trivial\n",
    "- for smaller tables the CDS xmatch service is fast, but doesn't give all columns of Gaia DR2 e.g. proper motion errors\n",
    "- WSA/VSA should already cross matches to UKIDSS/VVV already (I think)\n",
    "- you could use the gaia archive\n",
    "\n",
    "Here we take the last approach, but do it programatically in python, rather than logging into the website. There will be limits to the size of the cross matches, but I've tried with 200,000 sources I didn't reach them yet."
   ]
  },
  {
   "cell_type": "code",
   "execution_count": null,
   "metadata": {},
   "outputs": [],
   "source": [
    "help(mwtools.Gaia_DR2_Xmatch)"
   ]
  },
  {
   "cell_type": "code",
   "execution_count": null,
   "metadata": {},
   "outputs": [],
   "source": [
    "vvv_x_gaiadr2 = mwtools.Gaia_DR2_Xmatch(vvv,dist=1)\n",
    "vvv_x_gaiadr2[0:5]"
   ]
  },
  {
   "cell_type": "markdown",
   "metadata": {},
   "source": [
    "The column dist is the distance to the nearest cross match (actually I need to check if it's the neasest...)\n",
    "\n",
    "If we look at the distribution we see that we probably shouldn't trust cross matches beyond 0.4\""
   ]
  },
  {
   "cell_type": "code",
   "execution_count": null,
   "metadata": {},
   "outputs": [],
   "source": [
    "plt.hist(vvv_x_gaiadr2[np.isfinite(vvv_x_gaiadr2.dist)].dist*3600,100)\n",
    "print('Fraction cross matched to <0.4\" : {:.2f}'.format(np.sum(vvv_x_gaiadr2.dist < 0.4)/len(vvv)))\n",
    "plt.yscale('log')\n",
    "plt.xlabel('Distance between VVV DR4 and Gaia DR2 sources [arcsec]')\n",
    "_=plt.ylabel('Number of stars')"
   ]
  },
  {
   "cell_type": "markdown",
   "metadata": {},
   "source": [
    "Gaia gives proper motions and proper motion errors/covariances in equitorial coordinates (ra,dec). We generally prefer galactic coordinates. The function add_gaia_galactic_pms adds them. "
   ]
  },
  {
   "cell_type": "code",
   "execution_count": null,
   "metadata": {
    "collapsed": true
   },
   "outputs": [],
   "source": [
    "mwtools.add_gaia_galactic_pms(vvv_x_gaiadr2)"
   ]
  },
  {
   "cell_type": "markdown",
   "metadata": {},
   "source": [
    "And the errors are fairly small..."
   ]
  },
  {
   "cell_type": "code",
   "execution_count": null,
   "metadata": {},
   "outputs": [],
   "source": [
    "goodxmatch = (vvv_x_gaiadr2.dist < 0.4) & np.isfinite(vvv_x_gaiadr2['pml'])\n",
    "\n",
    "f, (ax_pm, ax_pm_err) = plt.subplots(nrows=1,ncols=2,sharey=True)\n",
    "\n",
    "bins=np.arange(-25,25,1)\n",
    "_ = ax_pm.hist(vvv_x_gaiadr2[goodxmatch]['pml'],bins,alpha=0.3,label=r'$\\mu_l$')\n",
    "_ = ax_pm.hist(vvv_x_gaiadr2[goodxmatch]['pmb'],bins,alpha=0.3,label=r'$\\mu_b$')\n",
    "_ = ax_pm.set_xlabel('mas/yr')\n",
    "_ = ax_pm.legend()\n",
    "bins=np.arange(0,3,0.02)\n",
    "_ = ax_pm_err.hist(vvv_x_gaiadr2[goodxmatch]['pml_error'],bins,alpha=0.3,label=r'Error in $\\mu_l$')\n",
    "_ = ax_pm_err.hist(vvv_x_gaiadr2[goodxmatch]['pmb_error'],bins,alpha=0.3,label=r'Error in $\\mu_b$')\n",
    "_ = ax_pm_err.set_xlabel('mas/yr')\n",
    "_ = ax_pm_err.legend()\n",
    "_ = ax_pm.set_ylabel('Number of stars')\n",
    "plt.subplots_adjust(hspace = 0,wspace = 0)"
   ]
  },
  {
   "cell_type": "markdown",
   "metadata": {},
   "source": [
    "But in this field, although we have a good number of cross matches fairly deep, to K~14.5, they are typically faint already at 12 to have accurate proper motions"
   ]
  },
  {
   "cell_type": "code",
   "execution_count": null,
   "metadata": {},
   "outputs": [],
   "source": [
    "goodxmatch = (vvv_x_gaiadr2.dist < 0.4)\n",
    "goodpm = (vvv_x_gaiadr2.dist < 0.4) & (np.sqrt(vvv_x_gaiadr2.pml_error**2 + vvv_x_gaiadr2.pmb_error**2) < 1.5)\n",
    "\n",
    "bins=np.arange(10,16,0.25)\n",
    "H,edges=np.histogram(vvv_x_gaiadr2.K,bins)\n",
    "Hgood,edges=np.histogram(vvv_x_gaiadr2[goodxmatch].K,bins)\n",
    "Hgoodpm,edges=np.histogram(vvv_x_gaiadr2[goodpm].K,bins)\n",
    "\n",
    "centers=0.5*(edges[:-1]+edges[1:])\n",
    "plt.plot(centers,Hgood/H,label='Gaia DR2 Cross matches <0.4\"')\n",
    "plt.plot(centers,Hgoodpm/H,label='Gaia DR2 Proper motion error < 1.5mas/yr')\n",
    "plt.legend()\n",
    "plt.ylabel('Fraction of VVV sources')\n",
    "plt.xlabel('$K_s$ [mag]')"
   ]
  },
  {
   "cell_type": "markdown",
   "metadata": {},
   "source": [
    "## An NMagicParticles class"
   ]
  },
  {
   "cell_type": "markdown",
   "metadata": {},
   "source": [
    "I have a class that might be useful for loading and playing with nmagic models in python:"
   ]
  },
  {
   "cell_type": "code",
   "execution_count": null,
   "metadata": {},
   "outputs": [],
   "source": [
    "help(mwtools.NMagicParticles)"
   ]
  },
  {
   "cell_type": "markdown",
   "metadata": {},
   "source": [
    "We can load our model directly from a parameter file. \n",
    "\n",
    "If you don't have a model at hand then you can get the Portail et al 2017 model using:\n",
    "\n",
    "scp nmagic2:/home/wegg/BestModel/{ModelParameters,}M85MW_1100_42.5_1.5_0060000 ."
   ]
  },
  {
   "cell_type": "code",
   "execution_count": null,
   "metadata": {
    "collapsed": true
   },
   "outputs": [],
   "source": [
    "model=mwtools.NMagicParticles(parameterfile='/Users/wegg/BestModel/ModelParametersM85MW_1000_40.0_2.0_0060000')"
   ]
  },
  {
   "cell_type": "markdown",
   "metadata": {},
   "source": [
    "Then we can easily do things like look at the velocity distribution in baades window"
   ]
  },
  {
   "cell_type": "code",
   "execution_count": null,
   "metadata": {
    "collapsed": true
   },
   "outputs": [],
   "source": [
    "stars=model.stellar\n",
    "r,l,b = stars.rlb.T\n",
    "baade = (l > -0.5) & (l < 0.5) & (b > -5) & (b < -4)\n",
    "vr,mul,mub = stars[baade].vrmulmub.T"
   ]
  },
  {
   "cell_type": "markdown",
   "metadata": {},
   "source": [
    "And see what it looks like"
   ]
  },
  {
   "cell_type": "code",
   "execution_count": null,
   "metadata": {},
   "outputs": [],
   "source": [
    "r=r[baade]\n",
    "fig,axs = plt.subplots(3,1,figsize=(6,7),sharex=True)\n",
    "axs[0].plot(r,mul,'.')\n",
    "axs[0].set_ylabel('$\\mu_l$ [mas/yr]')\n",
    "axs[1].plot(r,mub,'.')\n",
    "axs[1].set_ylabel('$\\mu_b$ [mas/yr]')\n",
    "axs[2].plot(r,vr,'.')\n",
    "axs[2].set_ylabel('$v_r$ [km/s]')\n",
    "axs[2].set_xlabel('Distance [kpc]')\n",
    "\n",
    "axs[0].set_xlim([0,15])\n",
    "fig.subplots_adjust(hspace = 0,wspace = 0)"
   ]
  },
  {
   "cell_type": "markdown",
   "metadata": {},
   "source": [
    "## Calling nemo to compute the potential/circular velocity"
   ]
  },
  {
   "cell_type": "markdown",
   "metadata": {},
   "source": [
    "#### The nemo submodule has functions to call nemo from python:"
   ]
  },
  {
   "cell_type": "code",
   "execution_count": null,
   "metadata": {},
   "outputs": [],
   "source": [
    "help(nemo)"
   ]
  },
  {
   "cell_type": "markdown",
   "metadata": {},
   "source": [
    "#### First let's compute the model rotation curve"
   ]
  },
  {
   "cell_type": "code",
   "execution_count": null,
   "metadata": {},
   "outputs": [],
   "source": [
    "help(nemo.rotationcurve)\n",
    "r, vcirc2_stars = nemo.rotationcurve(model.stellar)\n",
    "r, vcirc2_dm = nemo.rotationcurve(model.dm)"
   ]
  },
  {
   "cell_type": "markdown",
   "metadata": {},
   "source": [
    "#### Does the rotation curve look reasonable?"
   ]
  },
  {
   "cell_type": "code",
   "execution_count": null,
   "metadata": {},
   "outputs": [],
   "source": [
    "plt.plot(r,np.sqrt(vcirc2_stars),label='Stellar')\n",
    "plt.plot(r,np.sqrt(vcirc2_dm),label='DM')\n",
    "vc_total=np.sqrt(vcirc2_stars+vcirc2_dm)\n",
    "plt.plot(r,vc_total,label='Total')\n",
    "plt.legend()\n",
    "plt.xlabel('$r$ [kpc]')\n",
    "plt.ylabel('$V_c$ [km/s]')\n",
    "Vc0=np.interp(model.R0,r,vc_total)\n",
    "_=plt.title('$V_c(R_0)={:.1f}$ km/s'.format(Vc0))"
   ]
  },
  {
   "cell_type": "markdown",
   "metadata": {},
   "source": [
    "#### The circular velocity seems higher at the Solar radius compared to the fitted 238km/s. Let's look at it azimuthally. For this we can use getgravity which returns the acceleration and potential at the requested positions:"
   ]
  },
  {
   "cell_type": "code",
   "execution_count": null,
   "metadata": {},
   "outputs": [],
   "source": [
    "help(nemo.getgravity)"
   ]
  },
  {
   "cell_type": "markdown",
   "metadata": {},
   "source": [
    "#### Whether through luck or judgement, we see that at the solar position (azimuth=0) we are actually much closer to 238 km/s"
   ]
  },
  {
   "cell_type": "code",
   "execution_count": null,
   "metadata": {},
   "outputs": [],
   "source": [
    "ntheta=360\n",
    "theta = np.linspace(0, 2 * np.pi, num=ntheta, endpoint=False)\n",
    "x = model.R0 * np.sin(theta)\n",
    "y = model.R0 * np.cos(theta)\n",
    "positions = np.zeros((ntheta, 3))\n",
    "positions[:, 0] = x.flatten()\n",
    "positions[:, 1] = y.flatten()\n",
    "\n",
    "ax, ay, az, pot = nemo.getgravity(model, positions).T\n",
    "ar = - (x * ax + y * ay) / np.sqrt(x * x + y * y)\n",
    "vc = np.sqrt(ar*model.R0)\n",
    "plt.plot(theta,vc,label='Raw')\n",
    "\n",
    "#The particle noise is considerable compared to the size of the variation in Vc so smooth\n",
    "from scipy import signal\n",
    "plt.plot(theta, signal.savgol_filter(vc,31,1,mode='mirror'), label='Smoothed')\n",
    "plt.legend()\n",
    "plt.xlabel('Azimuth [radians]')\n",
    "plt.ylabel('$V_c$ [km/s]')"
   ]
  },
  {
   "cell_type": "markdown",
   "metadata": {},
   "source": [
    "#### We could also use getgravity to compute the potential too. Instead lets use the more convenient gravity_cartesian_grid to do so. There's also gravity_spherical_grid depending on your preference"
   ]
  },
  {
   "cell_type": "code",
   "execution_count": null,
   "metadata": {},
   "outputs": [],
   "source": [
    "help(nemo.gravity_cartesian_grid)"
   ]
  },
  {
   "cell_type": "code",
   "execution_count": null,
   "metadata": {
    "collapsed": true
   },
   "outputs": [],
   "source": [
    "x = np.linspace(-10,10,50)\n",
    "y = np.linspace(-10,10,100)\n",
    "grav = nemo.gravity_cartesian_grid(model, x, y, z=0)"
   ]
  },
  {
   "cell_type": "markdown",
   "metadata": {},
   "source": [
    "#### Lets compute and plot the effective potential"
   ]
  },
  {
   "cell_type": "code",
   "execution_count": null,
   "metadata": {},
   "outputs": [],
   "source": [
    "grav['omega']=40.\n",
    "grav['xmat'], grav['ymat'] = np.meshgrid(x, y, indexing='xy')\n",
    "grav['effpot'] = grav['pot'] - 0.5*(grav['xmat']**2 + grav['ymat']**2)*grav['omega']**2\n",
    "plt.contourf(grav['xmat'], grav['ymat'], grav['effpot'],25)\n",
    "plt.gca().set_aspect('equal', adjustable='box')\n",
    "plt.xlabel('x [kpc]')\n",
    "plt.ylabel('y [kpc]')\n",
    "cbar = plt.colorbar()\n",
    "cbar.set_label('Effective potential [(km/s)$^2$]')"
   ]
  },
  {
   "cell_type": "markdown",
   "metadata": {},
   "source": [
    "#### We can compare this to the potential computed in nmagic. You can get this using:\n",
    "#### scp -r nmagic2:/home/wegg/ForOrtwin/nmagicPotential .\n",
    "#### then inside the folder Output/ there is phir0000000 and phixy0000000 for the potential in polar and cartesian coordiantes respectively\n",
    "#### or just get these directly scp -r nmagic2:/home/wegg/ForOrtwin/nmagicPotential/Output/phi* ."
   ]
  },
  {
   "cell_type": "code",
   "execution_count": null,
   "metadata": {
    "collapsed": true
   },
   "outputs": [],
   "source": [
    "def read_nmagic_potential(filename,Viu=1.0):\n",
    "    \"\"\"Function to read output from nmagicPotential and convert to physical units if required. \n",
    "    **** Function not tested on nx!=ny ***\"\"\"\n",
    "    \n",
    "    # x and y are flipped due to ij vs xy indexing in nmagic output vs nemo version \n",
    "    y,x,phi,phieff =  np.loadtxt(filename, skiprows=1, unpack=True)\n",
    "    # First line specifies grid, use this to reshape the arrays\n",
    "    with open(filename) as f:\n",
    "        firstline = f.readline()\n",
    "    ny, nx = firstline.split() \n",
    "    nx, ny = int(nx), int(ny)\n",
    "    grav={}\n",
    "    grav['xmat']=x.reshape((ny,nx)).T\n",
    "    grav['x']=grav['xmat'][:,0]\n",
    "    grav['ymat']=y.reshape((ny,nx)).T\n",
    "    grav['y']=grav['ymat'][0,:]\n",
    "    grav['pot']=phi.reshape((ny,nx)).T*Viu**2\n",
    "    grav['effpot']=phieff.reshape((ny,nx)).T*Viu**2\n",
    "    return grav\n",
    "\n",
    "nmagic_grav = read_nmagic_potential('phixy0000000',Viu=model.Viu)"
   ]
  },
  {
   "cell_type": "code",
   "execution_count": null,
   "metadata": {},
   "outputs": [],
   "source": [
    "plt.contourf(nmagic_grav['x'], nmagic_grav['y'], nmagic_grav['effpot'],25)\n",
    "plt.gca().set_aspect('equal', adjustable='box')\n",
    "plt.xlabel('x [kpc]')\n",
    "plt.ylabel('y [kpc]')\n",
    "cbar = plt.colorbar()\n",
    "cbar.set_label('Effective potential [(km/s)$^2$]')"
   ]
  },
  {
   "cell_type": "markdown",
   "metadata": {},
   "source": [
    "#### The potentials look qualitatively similar. To quantitatively compare to nemo lets compute on the same grid:"
   ]
  },
  {
   "cell_type": "code",
   "execution_count": null,
   "metadata": {
    "collapsed": true
   },
   "outputs": [],
   "source": [
    "nemo_grav = nemo.gravity_cartesian_grid(model, nmagic_grav['x'], nmagic_grav['y'], z=0)\n",
    "nemo_grav['omega']=40.\n",
    "nemo_grav['xmat'], nemo_grav['ymat'] = np.meshgrid(nemo_grav['x'], nemo_grav['y'], indexing='xy')\n",
    "nemo_grav['effpot'] = nemo_grav['pot'] - 0.5*(nemo_grav['xmat']**2 + nemo_grav['ymat']**2)*nemo_grav['omega']**2"
   ]
  },
  {
   "cell_type": "markdown",
   "metadata": {},
   "source": [
    "#### If we look at a slice we see that there's actually a slight offset. This isn't bad, remembering your high school Newtonian physics then there is an ambiguity in the zero point of potentials since none of the forces depend on them."
   ]
  },
  {
   "cell_type": "code",
   "execution_count": null,
   "metadata": {},
   "outputs": [],
   "source": [
    "from mpl_toolkits.axes_grid1.axes_divider import make_axes_locatable\n",
    "fig, ax = plt.subplots(1,1)\n",
    "\n",
    "ax.plot(nmagic_grav['x'],nmagic_grav['effpot'][:,25],label='Nmagic')\n",
    "ax.plot(nemo_grav['x'],nemo_grav['effpot'][:,25],label='Nemo')\n",
    "ax.legend()\n",
    "ax.set_ylabel('Effective potential [(km/s)$^2$]')\n",
    "\n",
    "offset = np.mean(nmagic_grav['pot'] - nemo_grav['pot'])\n",
    "print('Overall Offset: {} (km/2)**2'.format(offset))\n",
    "\n",
    "ax_divider = make_axes_locatable(ax)\n",
    "ax2 = ax_divider.append_axes(\"bottom\", size=\"20%\", pad=\"2%\")\n",
    "ax2.plot(nmagic_grav['x'],nmagic_grav['effpot'][:,25]-nemo_grav['effpot'][:,25])\n",
    "ax2.set_xlabel('x [kpc]')\n",
    "ax2.set_ylabel('Nmagic $-$\\n Nemo')\n",
    "ax2.set_ylim([0,2*offset])\n",
    "\n",
    "nmagic_grav['effpot']-=offset # Arbitrarily adjust nmagic potential to nemo convention\n",
    "nmagic_grav['pot']-=offset"
   ]
  },
  {
   "cell_type": "markdown",
   "metadata": {},
   "source": [
    "#### And finally we can look at the difference in potential. Theres a ring at 10kpc, presumably caused by the switch in the nmagic potential solver, but the differences are very small"
   ]
  },
  {
   "cell_type": "code",
   "execution_count": null,
   "metadata": {},
   "outputs": [],
   "source": [
    "CS=plt.contourf(nmagic_grav['x'], nmagic_grav['y'], nmagic_grav['effpot'] - nemo_grav['effpot'],\n",
    "                levels=np.arange(-250,250,50),cmap=cm.coolwarm,vmin=-250,vmax=250)\n",
    "plt.gca().set_aspect('equal', adjustable='box')\n",
    "plt.xlabel('x [kpc]')\n",
    "plt.ylabel('y [kpc]')\n",
    "cbar = plt.colorbar(CS)\n",
    "cbar.set_label('Effective potential [(km/s)$^2$]')\n"
   ]
  },
  {
   "cell_type": "code",
   "execution_count": null,
   "metadata": {
    "collapsed": true
   },
   "outputs": [],
   "source": []
  }
 ],
 "metadata": {
  "kernelspec": {
   "display_name": "mwtools_testing",
   "language": "python",
   "name": "mwtools_testing"
  },
  "language_info": {
   "codemirror_mode": {
    "name": "ipython",
    "version": 3
   },
   "file_extension": ".py",
   "mimetype": "text/x-python",
   "name": "python",
   "nbconvert_exporter": "python",
   "pygments_lexer": "ipython3",
   "version": "3.7.0"
  }
 },
 "nbformat": 4,
 "nbformat_minor": 2
}
