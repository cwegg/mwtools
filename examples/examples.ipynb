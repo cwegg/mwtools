{
 "cells": [
  {
   "cell_type": "code",
   "execution_count": null,
   "metadata": {},
   "outputs": [],
   "source": [
    "import matplotlib.pyplot as plt\n",
    "import numpy as np\n",
    "from astroquery.vizier import Vizier\n",
    "import astropy.coordinates as coord\n",
    "import astropy.units as u\n",
    "\n",
    "%matplotlib inline\n",
    "%load_ext autoreload\n",
    "%autoreload 2\n",
    "%aimport mwtools\n",
    "from mwtools import nemo\n"
   ]
  },
  {
   "cell_type": "markdown",
   "metadata": {},
   "source": [
    "## The package has a few useful things for querying, cross matching, and playing with MW models"
   ]
  },
  {
   "cell_type": "code",
   "execution_count": null,
   "metadata": {},
   "outputs": [],
   "source": [
    "help(mwtools)"
   ]
  },
  {
   "cell_type": "markdown",
   "metadata": {},
   "source": [
    "## How to query the WSA (mostly for UKIDSS data) and the VSA (mostly for VVV data)"
   ]
  },
  {
   "cell_type": "markdown",
   "metadata": {},
   "source": [
    "We use query_vsa and query_wsa to submit SQL queries and get the results.\n",
    "\n",
    "Note theres also virac in the VSA as vvvProperMotionCatalogue -- for the full list go to http://horus.roe.ac.uk/vsa/www/vsa_browser.html or http://wsa.roe.ac.uk/www/wsa_browser.html)"
   ]
  },
  {
   "cell_type": "code",
   "execution_count": null,
   "metadata": {},
   "outputs": [],
   "source": [
    "help(mwtools.query_vsa)"
   ]
  },
  {
   "cell_type": "code",
   "execution_count": null,
   "metadata": {
    "collapsed": true
   },
   "outputs": [],
   "source": [
    "central_l,central_b = 4.75, 1.25\n",
    "width_l,width_b = 0.5, 0.1"
   ]
  },
  {
   "cell_type": "code",
   "execution_count": null,
   "metadata": {},
   "outputs": [],
   "source": [
    "sqlquery=\"\"\"select ra,dec,l,b,japermag3 as J,hapermag3 as H, k_1AperMag3 as K\n",
    "from gpsJHKsource where l between {} and {} and b between {} and {} \n",
    "and japermag3-k_1AperMag3 > 0 and k_1AperMag3 between 5 and 18\"\"\".format(central_l-0.5*width_l,central_l+0.5*width_l,\n",
    "                                                                        central_b-0.5*width_b,central_b+0.5*width_b)\n",
    "ukidss=mwtools.query_wsa(sqlquery)\n",
    "ukidss.RA = np.rad2deg(ukidss.RA) #be careful, ra and dec are in radians in the VSA/WSA\n",
    "ukidss.DEC = np.rad2deg(ukidss.DEC)\n",
    "ukidss[0:5]"
   ]
  },
  {
   "cell_type": "code",
   "execution_count": null,
   "metadata": {},
   "outputs": [],
   "source": [
    "sqlquery=\"\"\"select ra,dec,l,b,japermag3 as J,hapermag3 as H, ksAperMag3 as K\n",
    "from vvvSource where l between 4.5 and 5 and b between 1.2 and 1.3 \n",
    "and japermag3-ksAperMag3 > 0 and ksAperMag3 between 5 and 18\"\"\".format(central_l-0.5*width_l,central_l+0.5*width_l,\n",
    "                                                                        central_b-0.5*width_b,central_b+0.5*width_b)\n",
    "vvv=mwtools.query_vsa(sqlquery)\n",
    "vvv.RA = np.rad2deg(vvv.RA) #be careful, ra and dec are in radians in the VSA/WSA\n",
    "vvv.DEC = np.rad2deg(vvv.DEC)\n",
    "vvv[0:5]"
   ]
  },
  {
   "cell_type": "markdown",
   "metadata": {},
   "source": [
    "The WSA and VSA also have many other tables too... e.g. 2MASS/Gaia but instead here we use vizier. Almost all useful tables are in vizier (at least if they aren't too big like Gaia/UKIDSS/VVV) so it's useful to be able to query directly in python\n",
    "\n",
    "For this there's astroquery extension to astropy"
   ]
  },
  {
   "cell_type": "code",
   "execution_count": null,
   "metadata": {},
   "outputs": [],
   "source": [
    "v = Vizier(columns=[\"*\", \"+_r\"],catalog=\"II/246\")\n",
    "v.ROW_LIMIT=-1\n",
    "result = v.query_region(coord.Galactic(l=central_l*u.deg, b=central_b*u.deg),\n",
    "                        width=width_l*u.deg, height=width_b*u.deg, catalog=\"II/246\")\n",
    "tmass=result[0].to_pandas()\n",
    "tmass[0:5]"
   ]
  },
  {
   "cell_type": "code",
   "execution_count": null,
   "metadata": {},
   "outputs": [],
   "source": [
    "fig,axs=plt.subplots(1,3,sharey=True,sharex=True)\n",
    "\n",
    "axs[0].plot(ukidss.J-ukidss.K,ukidss.K,'.',markersize=0.5)\n",
    "axs[1].plot(vvv.J-vvv.K,vvv.K,'.',markersize=0.5)\n",
    "axs[2].plot(tmass.Jmag-tmass.Kmag,tmass.Kmag,'.',markersize=0.5)\n",
    "axs[0].set_title('UKIDSS')\n",
    "axs[1].set_title('VVV')\n",
    "axs[2].set_title('2MASS')\n",
    "\n",
    "axs[0].set_ylim([16,9])\n",
    "axs[0].set_xlim([0,3])\n",
    "\n",
    "axs[1].set_xlabel('J-K')\n",
    "axs[0].set_ylabel('K')\n",
    "plt.subplots_adjust(hspace = 0,wspace = 0.1)"
   ]
  },
  {
   "cell_type": "code",
   "execution_count": null,
   "metadata": {},
   "outputs": [],
   "source": [
    "fig,ax = plt.subplots(1,1)\n",
    "\n",
    "bins = np.arange(6,18,0.2)\n",
    "ax.hist(ukidss.K,bins,label='UKIDSS',alpha=0.3,histtype='step')\n",
    "ax.hist(vvv.K,bins,label='VVV',alpha=0.3,histtype='step')\n",
    "ax.hist(tmass.Kmag,bins,label='2MASS',alpha=0.3,histtype='step')\n",
    "qflg=tmass.Qflg.str.decode(\"utf-8\")\n",
    "cut=(tmass.e_Jmag < 0.1) & (tmass.e_Hmag < 0.1) & (tmass.e_Kmag < 0.1) & \\\n",
    "    ((qflg.str[0] == 'A') | (qflg.str[0] == 'B')) & ((qflg.str[1] == 'A') | (qflg.str[1] == 'B')) & \\\n",
    "    ((qflg.str[2] == 'A') | (qflg.str[2] == 'B')) & (tmass.Cflg == b'000')\n",
    "ax.hist(tmass[cut].Kmag,bins,label='2MASS Cut',alpha=0.3,histtype='step')\n",
    "\n",
    "ax.legend()\n",
    "ax.set_yscale('log')\n",
    "ax.set_xlabel('K')\n",
    "ax.set_ylabel('Number of Stars')\n",
    "ax.set_title(r'Region centered on $(l,b)={:.2f},{:.2f}$'.format(central_l,central_b))\n",
    "\n"
   ]
  },
  {
   "cell_type": "markdown",
   "metadata": {},
   "source": [
    "## One option for cross matching to Gaia"
   ]
  },
  {
   "cell_type": "markdown",
   "metadata": {},
   "source": [
    "There's a few different ways to cross match to gaia\n",
    "- you could download the entire source table and cross match locally, but this is 550 GB, and doing it efficiently isn't trivial\n",
    "- for smaller tables the CDS xmatch service is fast, but doesn't give all columns of Gaia DR2 e.g. proper motion errors\n",
    "- WSA/VSA should already cross matches to UKIDSS/VVV already (I think)\n",
    "- you could use the gaia archive\n",
    "\n",
    "Here we take the last approach, but do it programatically in python, rather than logging into the website. There will be limits to the size of the cross matches, but I've tried with 200,000 sources I didn't reach them yet."
   ]
  },
  {
   "cell_type": "code",
   "execution_count": null,
   "metadata": {},
   "outputs": [],
   "source": [
    "help(mwtools.Gaia_DR2_Xmatch)"
   ]
  },
  {
   "cell_type": "code",
   "execution_count": null,
   "metadata": {},
   "outputs": [],
   "source": [
    "vvv_x_gaiadr2 = mwtools.Gaia_DR2_Xmatch(vvv,dist=1)\n",
    "vvv_x_gaiadr2[0:5]"
   ]
  },
  {
   "cell_type": "markdown",
   "metadata": {},
   "source": [
    "The column dist is the distance to the nearest cross match (actually I need to check if it's the neasest...)\n",
    "\n",
    "If we look at the distribution we see that we probably shouldn't trust cross matches beyond 0.4\""
   ]
  },
  {
   "cell_type": "code",
   "execution_count": null,
   "metadata": {},
   "outputs": [],
   "source": [
    "plt.hist(vvv_x_gaiadr2[np.isfinite(vvv_x_gaiadr2.dist)].dist*3600,100)\n",
    "print('Fraction cross matched to <0.4\" : {:.2f}'.format(np.sum(vvv_x_gaiadr2.dist < 0.4)/len(vvv)))\n",
    "plt.yscale('log')\n",
    "plt.xlabel('Distance between VVV DR4 and Gaia DR2 sources [arcsec]')\n",
    "_=plt.ylabel('Number of stars')"
   ]
  },
  {
   "cell_type": "markdown",
   "metadata": {},
   "source": [
    "Gaia gives proper motions and proper motion errors/covariances in equitorial coordinates (ra,dec). We generally prefer galactic coordinates. The function add_gaia_galactic_pms adds them. "
   ]
  },
  {
   "cell_type": "code",
   "execution_count": null,
   "metadata": {},
   "outputs": [],
   "source": [
    "mwtools.add_gaia_galactic_pms(vvv_x_gaiadr2)"
   ]
  },
  {
   "cell_type": "markdown",
   "metadata": {},
   "source": [
    "And the errors are fairly small..."
   ]
  },
  {
   "cell_type": "code",
   "execution_count": null,
   "metadata": {},
   "outputs": [],
   "source": [
    "goodxmatch = (vvv_x_gaiadr2.dist < 0.4)\n",
    "\n",
    "f, (ax_pm, ax_pm_err) = plt.subplots(nrows=1,ncols=2,sharey=True)\n",
    "\n",
    "bins=np.arange(-25,25,1)\n",
    "_ = ax_pm.hist(vvv_x_gaiadr2[goodxmatch]['pml'],bins,alpha=0.3,label=r'$\\mu_l$')\n",
    "_ = ax_pm.hist(vvv_x_gaiadr2[goodxmatch]['pmb'],bins,alpha=0.3,label=r'$\\mu_b$')\n",
    "_ = ax_pm.set_xlabel('mas/yr')\n",
    "_ = ax_pm.legend()\n",
    "bins=np.arange(0,3,0.02)\n",
    "_ = ax_pm_err.hist(vvv_x_gaiadr2[goodxmatch]['pml_error'],bins,alpha=0.3,label=r'Error in $\\mu_l$')\n",
    "_ = ax_pm_err.hist(vvv_x_gaiadr2[goodxmatch]['pmb_error'],bins,alpha=0.3,label=r'Error in $\\mu_b$')\n",
    "_ = ax_pm_err.set_xlabel('mas/yr')\n",
    "_ = ax_pm_err.legend()\n",
    "_ = ax_pm.set_ylabel('Number of stars')\n",
    "plt.subplots_adjust(hspace = 0,wspace = 0)"
   ]
  },
  {
   "cell_type": "markdown",
   "metadata": {},
   "source": [
    "But in this field, although we have a good number of cross matches fairly deep, to K~14.5, they are typically faint already at 12 to have accurate proper motions"
   ]
  },
  {
   "cell_type": "code",
   "execution_count": null,
   "metadata": {},
   "outputs": [],
   "source": [
    "goodpm = (vvv_x_gaiadr2.dist < 0.4) & (np.sqrt(vvv_x_gaiadr2.pml_error**2 + vvv_x_gaiadr2.pmb_error**2) < 1.5)\n",
    "\n",
    "bins=np.arange(10,16,0.25)\n",
    "H,edges=np.histogram(vvv_x_gaiadr2.K,bins)\n",
    "Hgood,edges=np.histogram(vvv_x_gaiadr2[goodxmatch].K,bins)\n",
    "Hgoodpm,edges=np.histogram(vvv_x_gaiadr2[goodpm].K,bins)\n",
    "\n",
    "centers=0.5*(edges[:-1]+edges[1:])\n",
    "plt.plot(centers,Hgood/H,label='Gaia DR2 Cross matches <0.4\"')\n",
    "plt.plot(centers,Hgoodpm/H,label='Gaia DR2 Proper motion error < 1.5mas/yr')\n",
    "plt.legend()\n",
    "plt.ylabel('Fraction of VVV sources')\n",
    "plt.xlabel('$K_s$ [mag]')"
   ]
  },
  {
   "cell_type": "markdown",
   "metadata": {},
   "source": [
    "## An NMagicParticles class"
   ]
  },
  {
   "cell_type": "markdown",
   "metadata": {},
   "source": [
    "I have a class that might be useful for loading and playing with nmagic models in python:"
   ]
  },
  {
   "cell_type": "code",
   "execution_count": null,
   "metadata": {},
   "outputs": [],
   "source": [
    "help(mwtools.NMagicParticles)"
   ]
  },
  {
   "cell_type": "markdown",
   "metadata": {},
   "source": [
    "We can load our model directly from a parameter file. \n",
    "\n",
    "If you don't have a model at hand then you can get the Portail et al 2017 model using:\n",
    "\n",
    "scp nmagic2:/home/wegg/BestModel/{ModelParameters,}M85MW_1100_42.5_1.5_0060000 ."
   ]
  },
  {
   "cell_type": "code",
   "execution_count": null,
   "metadata": {},
   "outputs": [],
   "source": [
    "model=mwtools.NMagicParticles(parameterfile='/Users/wegg/BestModel/ModelParametersM85MW_1000_40.0_2.0_0060000')"
   ]
  },
  {
   "cell_type": "markdown",
   "metadata": {},
   "source": [
    "Then we can easily do things like look at the velocity distribution in baades window"
   ]
  },
  {
   "cell_type": "code",
   "execution_count": null,
   "metadata": {},
   "outputs": [],
   "source": [
    "stars=model.stellar\n",
    "r,l,b = stars.rlb.T\n",
    "baade = (l > -0.5) & (l < 0.5) & (b > -5) & (b < -4)\n",
    "vr,mul,mub = stars[baade].vrmulmub.T"
   ]
  },
  {
   "cell_type": "markdown",
   "metadata": {},
   "source": [
    "And see what it looks like"
   ]
  },
  {
   "cell_type": "code",
   "execution_count": null,
   "metadata": {},
   "outputs": [],
   "source": [
    "r=r[baade]\n",
    "fig,axs = plt.subplots(3,1,figsize=(6,7),sharex=True)\n",
    "axs[0].plot(r,mul,'.')\n",
    "axs[0].set_ylabel('$\\mu_l$ [mas/yr]')\n",
    "axs[1].plot(r,mub,'.')\n",
    "axs[1].set_ylabel('$\\mu_b$ [mas/yr]')\n",
    "axs[2].plot(r,vr,'.')\n",
    "axs[2].set_ylabel('$v_r$ [km/s]')\n",
    "axs[2].set_xlabel('Distance [kpc]')\n",
    "\n",
    "axs[0].set_xlim([0,15])\n",
    "fig.subplots_adjust(hspace = 0,wspace = 0)"
   ]
  },
  {
   "cell_type": "markdown",
   "metadata": {},
   "source": [
    "## Calling nemo to compute the potential/circular velocity"
   ]
  },
  {
   "cell_type": "code",
   "execution_count": null,
   "metadata": {},
   "outputs": [],
   "source": [
    "help(nemo)"
   ]
  },
  {
   "cell_type": "code",
   "execution_count": null,
   "metadata": {},
   "outputs": [],
   "source": [
    "(vcirc2,r)=nemo.rotationcurve(model.stellar)"
   ]
  }
 ],
 "metadata": {
  "kernelspec": {
   "display_name": "mwtools_testing",
   "language": "python",
   "name": "mwtools_testing"
  },
  "language_info": {
   "codemirror_mode": {
    "name": "ipython",
    "version": 3
   },
   "file_extension": ".py",
   "mimetype": "text/x-python",
   "name": "python",
   "nbconvert_exporter": "python",
   "pygments_lexer": "ipython3",
   "version": "3.7.0"
  }
 },
 "nbformat": 4,
 "nbformat_minor": 2
}
